{
 "cells": [
  {
   "cell_type": "code",
   "outputs": [
    {
     "name": "stdout",
     "output_type": "stream",
     "text": [
      "{'_content': b'{\"model\":\"llama2\",\"created_at\":\"2024-04-10T21:02:40.01857422Z\",\"response\":\"\\\\nThe sky appears blue because of a phenomenon called Rayleigh scattering, which occurs when sunlight travels through the Earth\\'s atmosphere. The Sun emits light in all wavelengths, but the atmosphere scatters shorter (blue) wavelengths more than longer (red) wavelengths. This is because the molecules of gases in the atmosphere are much smaller than the wavelength of red light, so they have less effect on it. However, blue light has a shorter wavelength, which means that the molecules of the atmosphere have more of an effect on it, causing it to scatter in all directions.\\\\n\\\\nAs a result of this scattering, the blue light is diffused and spread out, giving the sky its characteristic blue color. The blue color of the sky can also be affected by other factors, such as the amount of dust and water vapor in the atmosphere, which can scatter the light in different ways and create different shades of blue.\\\\n\\\\nIt\\'s worth noting that the Earth\\'s atmosphere is not a uniform layer, but rather a complex system with different layers and structures, each with their own properties and effects on light. For example, the stratosphere, which is the layer of the atmosphere closest to the Earth\\'s surface, has a different composition and structure than the troposphere, where most of the weather occurs. This can also affect the color of the sky, as different layers of the atmosphere scatter light differently.\\\\n\\\\nOverall, the blue color of the sky is a result of the combination of the properties of light and the Earth\\'s atmosphere, and it can vary depending on a variety of factors.\",\"done\":true,\"context\":[518,25580,29962,3532,14816,29903,29958,5299,829,14816,29903,6778,13,13,11008,338,278,14744,7254,29973,518,29914,25580,29962,13,13,1576,14744,5692,7254,1363,310,263,27791,265,2000,9596,280,1141,14801,292,29892,607,10008,746,6575,4366,9850,29879,1549,278,11563,29915,29879,25005,29889,450,8991,953,1169,3578,297,599,281,6447,1477,29879,29892,541,278,25005,885,271,2153,20511,313,9539,29897,281,6447,1477,29879,901,1135,5520,313,1127,29897,281,6447,1477,29879,29889,910,338,1363,278,13206,21337,310,330,2129,297,278,25005,526,1568,7968,1135,278,281,6447,1477,310,2654,3578,29892,577,896,505,3109,2779,373,372,29889,2398,29892,7254,3578,756,263,20511,281,6447,1477,29892,607,2794,393,278,13206,21337,310,278,25005,505,901,310,385,2779,373,372,29892,10805,372,304,14801,297,599,18112,29889,13,13,2887,263,1121,310,445,14801,292,29892,278,7254,3578,338,2923,3880,322,9677,714,29892,6820,278,14744,967,17443,7254,2927,29889,450,7254,2927,310,278,14744,508,884,367,15201,491,916,13879,29892,1316,408,278,5253,310,19786,322,4094,325,26191,297,278,25005,29892,607,508,14801,278,3578,297,1422,5837,322,1653,1422,528,3076,310,7254,29889,13,13,3112,29915,29879,7088,451,292,393,278,11563,29915,29879,25005,338,451,263,9090,7546,29892,541,3265,263,4280,1788,411,1422,15359,322,12286,29892,1269,411,1009,1914,4426,322,9545,373,3578,29889,1152,1342,29892,278,851,4507,9085,29892,607,338,278,7546,310,278,25005,21438,304,278,11563,29915,29879,7101,29892,756,263,1422,15259,322,3829,1135,278,3147,1066,9085,29892,988,1556,310,278,14826,10008,29889,910,508,884,6602,278,2927,310,278,14744,29892,408,1422,15359,310,278,25005,14801,3578,17587,29889,13,13,3563,497,29892,278,7254,2927,310,278,14744,338,263,1121,310,278,10296,310,278,4426,310,3578,322,278,11563,29915,29879,25005,29892,322,372,508,13100,8679,373,263,12875,310,13879,29889],\"total_duration\":36690542767,\"load_duration\":1813694376,\"prompt_eval_count\":26,\"prompt_eval_duration\":2110108000,\"eval_count\":352,\"eval_duration\":32766274000}', '_content_consumed': True, '_next': None, 'status_code': 200, 'headers': {'Content-Type': 'application/json; charset=utf-8', 'Date': 'Wed, 10 Apr 2024 21:02:40 GMT', 'Transfer-Encoding': 'chunked'}, 'raw': <urllib3.response.HTTPResponse object at 0x108635390>, 'url': 'http://localhost:11434/api/generate', 'encoding': 'utf-8', 'history': [], 'reason': 'OK', 'cookies': <RequestsCookieJar[]>, 'elapsed': datetime.timedelta(seconds=36, microseconds=694795), 'request': <PreparedRequest [POST]>, 'connection': <requests.adapters.HTTPAdapter object at 0x1086e1be0>}\n"
     ]
    }
   ],
   "source": [
    "import requests\n",
    "\n",
    "uri = 'http://localhost:11434/api/generate'\n",
    "\n",
    "data = {\n",
    "    \"model\": \"llama2\",\n",
    "    \"prompt\": \"Why is the sky blue?\",\n",
    "    \"stream\": False\n",
    "}\n",
    "\n",
    "response = requests.post(uri, json=data)\n",
    "\n",
    "print(response.__dict__)"
   ],
   "metadata": {
    "collapsed": false,
    "ExecuteTime": {
     "end_time": "2024-04-10T21:02:40.025828Z",
     "start_time": "2024-04-10T21:02:03.298257Z"
    }
   },
   "id": "dfed74fd19d746a8",
   "execution_count": 1
  },
  {
   "cell_type": "code",
   "outputs": [
    {
     "name": "stdout",
     "output_type": "stream",
     "text": [
      "Model: llama2\n",
      "Created At: 2024-04-10T21:02:40.01857422Z\n",
      "Response:\n",
      "\n",
      "The sky appears blue because of a phenomenon called Rayleigh scattering, which occurs when sunlight travels through the Earth's atmosphere. The Sun emits light in all wavelengths, but the atmosphere scatters shorter (blue) wavelengths more than longer (red) wavelengths. This is because the molecules of gases in the atmosphere are much smaller than the wavelength of red light, so they have less effect on it. However, blue light has a shorter wavelength, which means that the molecules of the atmosphere have more of an effect on it, causing it to scatter in all directions.\n",
      "\n",
      "As a result of this scattering, the blue light is diffused and spread out, giving the sky its characteristic blue color. The blue color of the sky can also be affected by other factors, such as the amount of dust and water vapor in the atmosphere, which can scatter the light in different ways and create different shades of blue.\n",
      "\n",
      "It's worth noting that the Earth's atmosphere is not a uniform layer, but rather a complex system with different layers and structures, each with their own properties and effects on light. For example, the stratosphere, which is the layer of the atmosphere closest to the Earth's surface, has a different composition and structure than the troposphere, where most of the weather occurs. This can also affect the color of the sky, as different layers of the atmosphere scatter light differently.\n",
      "\n",
      "Overall, the blue color of the sky is a result of the combination of the properties of light and the Earth's atmosphere, and it can vary depending on a variety of factors.\n"
     ]
    }
   ],
   "source": [
    "import json \n",
    "\n",
    "data = response.__dict__['_content']\n",
    "data = json.loads(data.decode('utf-8'))\n",
    "model_name = data['model']\n",
    "created_at = data['created_at']\n",
    "response = data['response']\n",
    "\n",
    "print(f\"Model: {model_name}\\nCreated At: {created_at}\\nResponse:\\n{response}\")"
   ],
   "metadata": {
    "collapsed": false,
    "ExecuteTime": {
     "end_time": "2024-04-10T21:03:56.519145Z",
     "start_time": "2024-04-10T21:03:56.515425Z"
    }
   },
   "id": "783a00ac5336ce1e",
   "execution_count": 5
  },
  {
   "cell_type": "markdown",
   "source": [
    "## implémentation de la fonction de génération"
   ],
   "metadata": {
    "collapsed": false
   },
   "id": "34f3439e5692fe8"
  },
  {
   "cell_type": "code",
   "outputs": [],
   "source": [
    "def generate(prompt, model_name='llama2', stream=False):\n",
    "    uri = 'http://localhost:11434/api/generate'\n",
    "\n",
    "    data = {\n",
    "        \"model\": model_name,\n",
    "        \"prompt\": prompt,\n",
    "        \"stream\": stream\n",
    "    }\n",
    "\n",
    "    response = requests.post(uri, json=data)\n",
    "\n",
    "    data = response.__dict__['_content']\n",
    "    data = json.loads(data.decode('utf-8'))\n",
    "    text = data['response']\n",
    "\n",
    "    return text"
   ],
   "metadata": {
    "collapsed": false,
    "ExecuteTime": {
     "end_time": "2024-04-10T21:02:54.046891Z",
     "start_time": "2024-04-10T21:02:54.043721Z"
    }
   },
   "id": "d497b1f71276afae",
   "execution_count": 3
  },
  {
   "cell_type": "code",
   "outputs": [
    {
     "name": "stdout",
     "output_type": "stream",
     "text": [
      "Yes, I'm familiar with Python. It's a popular and versatile programming language used for a wide range of applications, including web development, scientific computing, data analysis, artificial intelligence, and more.\n",
      "\n",
      "Here are some key features of Python:\n",
      "\n",
      "1. **Easy to learn**: Python has a simple syntax and is relatively easy to learn, making it a great language for beginners.\n",
      "2. **High-level language**: Python is a high-level language, meaning it abstracts away many low-level details, allowing developers to focus on the logic of their program rather than the implementation.\n",
      "3. **Dynamic typing**: Python is dynamically typed, which means you don't need to declare the data type of a variable before using it. This makes it easier to write code and reduces the risk of errors.\n",
      "4. **Large standard library**: Python has a large and comprehensive standard library that provides modules for various tasks, such as file I/O, networking, and data structures.\n",
      "5. **Extensive third-party libraries**: There are many third-party libraries available for Python, including NumPy, pandas, and scikit-learn, which make it a great choice for scientific computing and data analysis.\n",
      "6. **Cross-platform**: Python can be run on multiple operating systems, including Windows, macOS, and Linux.\n",
      "7. **Extensive community**: Python has a large and active community, with many resources available for learning and troubleshooting.\n",
      "\n",
      "Some common use cases for Python include:\n",
      "\n",
      "1. Web development: Python can be used to build web applications using popular frameworks like Django and Flask.\n",
      "2. Scientific computing: Python is widely used in scientific computing for tasks such as data analysis, numerical simulations, and machine learning.\n",
      "3. Data analysis: Python has many libraries, including NumPy, pandas, and scikit-learn, that make it easy to manipulate and analyze data.\n",
      "4. Artificial intelligence: Python is a popular language for building AI and machine learning models, thanks to libraries like TensorFlow and Keras.\n",
      "5. Automation: Python can be used to automate tasks and processes, such as data processing, file manipulation, and system administration.\n",
      "\n",
      "Overall, Python is a versatile language that can be used for a wide range of applications, and its ease of use and extensive standard library make it a great choice for beginners and experienced developers alike.\n"
     ]
    }
   ],
   "source": [
    "response = generate(\"do you know python ?\")\n",
    "print(response)"
   ],
   "metadata": {
    "collapsed": false,
    "ExecuteTime": {
     "end_time": "2024-04-05T10:46:12.310294Z",
     "start_time": "2024-04-05T10:45:20.118393Z"
    }
   },
   "id": "6eaafb8a402e1d7b",
   "execution_count": 7
  },
  {
   "cell_type": "code",
   "outputs": [
    {
     "name": "stdout",
     "output_type": "stream",
     "text": [
      "The data you provided is a JSON object, which means it can be accessed using JavaScript's built-in `JSON.parse()` method. Here's an example of how you can access the data:\n",
      "```\n",
      "const data = JSON.parse('{\"model\":\"lll\", \"total_duration\":4881638875,\"load_duration\":672542,\"prompt_eval_duration\":149195000,\"eval_count\":292,\"eval_duration\":4731363000}');\n",
      "\n",
      "console.log(data.model); // Output: \"lll\"\n",
      "console.log(data.totalDuration); // Output: 4881638875\n",
      "console.log(data.loadDuration); // Output: 672542\n",
      "console.log(data.promptEvalDuration); // Output: 149195000\n",
      "console.log(data.evalCount); // Output: 292\n",
      "console.log(data.evalDuration); // Output: 47313630000\n",
      "```\n",
      "Alternatively, you can use a library like `json2js` to parse the JSON data and access it as a JavaScript object. Here's an example of how you can use `json2js`:\n",
      "```\n",
      "const json = '{\"model\":\"lll\", \"total_duration\":4881638875,\"load_duration\":672542,\"prompt_eval_duration\":149195000,\"eval_count\":292,\"eval_duration\":4731363000}';\n",
      "const data = json2js(json);\n",
      "\n",
      "console.log(data.model); // Output: \"lll\"\n",
      "console.log(data.totalDuration); // Output: 4881638875\n",
      "console.log(data.loadDuration); // Output: 672542\n",
      "console.log(data.promptEvalDuration); // Output: 149195000\n",
      "console.log(data.evalCount); // Output: 292\n",
      "console.log(data.evalDuration); // Output: 47313630000\n",
      "```\n"
     ]
    }
   ],
   "source": [
    "prompt = '''\n",
    "what's this \n",
    "b'{\"model\":\"llama2\",\"created_at\":\"2024-04-04T13:45:27.453821Z\",\"response\":\"\\\\nThe sky appears blue because of a phenomenon called Rayleigh scattering. When sunlight enters Earth\\'s atmosphere, it encounters tiny molecules of gases such as nitrogen and oxygen. These molecules absorb some of the light and scatter the rest in all directions. The shorter wavelengths of light, such as violet and blue, are scattered more than the longer wavelengths, such as red and orange. This is known as Rayleigh scattering.\\\\n\\\\nAs a result of this scattering, the blue light is dispersed throughout the atmosphere, giving the sky its blue color. The same principle applies to sunsets, where the red and orange hues are scattered more than the blue and violet hues, resulting in the characteristic red and orange colors of a sunset.\\\\n\\\\nIt\\'s worth noting that the appearance of the sky can vary depending on several factors, such as the time of day, weather conditions, and altitude. For example, during sunrise and sunset, the sky can take on hues of red, orange, and pink due to the angle of the sunlight and the scattering of light by particles in the atmosphere.\\\\n\\\\nIn summary, the sky appears blue because of Rayleigh scattering, which disperses light of shorter wavelengths throughout the atmosphere, giving it a blue hue.\",\"done\":true,\"context\":[518,25580,29962,3532,14816,29903,29958,5299,829,14816,29903,6778,13,13,11008,338,278,14744,7254,29973,518,29914,25580,29962,13,13,1576,14744,5692,7254,1363,310,263,27791,265,2000,9596,280,1141,14801,292,29889,1932,6575,4366,24395,11563,29915,29879,25005,29892,372,2094,1309,2153,21577,13206,21337,310,330,2129,1316,408,21767,307,1885,322,288,28596,29889,4525,13206,21337,6425,11831,777,310,278,3578,322,14801,278,1791,297,599,18112,29889,450,20511,281,6447,1477,29879,310,3578,29892,1316,408,28008,1026,322,7254,29892,526,29574,901,1135,278,5520,281,6447,1477,29879,29892,1316,408,2654,322,24841,29889,910,338,2998,408,9596,280,1141,14801,292,29889,13,13,2887,263,1121,310,445,14801,292,29892,278,7254,3578,338,29106,287,10106,278,25005,29892,6820,278,14744,967,7254,2927,29889,450,1021,12502,16058,304,6575,7224,29892,988,278,2654,322,24841,298,1041,526,29574,901,1135,278,7254,322,28008,1026,298,1041,29892,9819,297,278,17443,2654,322,24841,11955,310,263,6575,842,29889,13,13,3112,29915,29879,7088,451,292,393,278,10097,310,278,14744,508,13100,8679,373,3196,13879,29892,1316,408,278,931,310,2462,29892,14826,5855,29892,322,5272,4279,29889,1152,1342,29892,2645,6575,29878,895,322,6575,842,29892,278,14744,508,2125,373,298,1041,310,2654,29892,24841,29892,322,282,682,2861,304,278,10696,310,278,6575,4366,322,278,14801,292,310,3578,491,17105,297,278,25005,29889,13,13,797,15837,29892,278,14744,5692,7254,1363,310,9596,280,1141,14801,292,29892,607,29106,267,3578,310,20511,281,6447,1477,29879,10106,278,25005,29892,6820,372,263,7254,298,434,29889],\"total_duration\":4881638875,\"load_duration\":672542,\"prompt_eval_duration\":149195000,\"eval_count\":292,\"eval_duration\":4731363000}'\n",
    "how to access it ?\n",
    "'''\n",
    "response = generate(prompt)\n",
    "print(response)"
   ],
   "metadata": {
    "collapsed": false,
    "ExecuteTime": {
     "end_time": "2024-04-04T13:56:10.846152Z",
     "start_time": "2024-04-04T13:55:54.134613Z"
    }
   },
   "id": "c0bf65dd51ac8d71",
   "execution_count": 27
  },
  {
   "cell_type": "code",
   "outputs": [
    {
     "name": "stdout",
     "output_type": "stream",
     "text": [
      "There are several ways to share data between functions in Python. Here are a few options:\n",
      "\n",
      "1. **Global variables**: You can define a global variable at the top level of your code and modify it from different functions. However, this is generally considered bad practice as it makes your code hard to test and maintain. It's better to avoid using global variables whenever possible.\n",
      "2. **Singleton pattern**: You can define a single instance of a class that contains the data you want to share, and make sure that instance is only created once in your program. Then, you can access that instance from different functions using the `self` parameter. Here's an example:\n",
      "```python\n",
      "class DataManager:\n",
      "    _data = {}\n",
      "\n",
      "    def __init__(self):\n",
      "        pass\n",
      "\n",
      "    def get_data(self):\n",
      "        return self._data\n",
      "\n",
      "    def set_data(self, data):\n",
      "        self._data = data\n",
      "\n",
      "# Use the DataManager class to share data\n",
      "data_manager = DataManager()\n",
      "data_manager.set_data({'key1': 'value1', 'key2': 'value2'})\n",
      "print(data_manager.get_data())  # Output: {'key1': 'value1', 'key2': 'value2'}\n",
      "```\n",
      "3. **Context manager**: You can use a context manager to share data between functions. A context manager is an object that manages some resource, such as a file or a database connection, and provides a way to access it from different parts of your code. Here's an example:\n",
      "```python\n",
      "class DataManager:\n",
      "    def __init__(self):\n",
      "        pass\n",
      "\n",
      "    def get_data(self):\n",
      "        return self._data\n",
      "\n",
      "    def set_data(self, data):\n",
      "        self._data = data\n",
      "\n",
      "    def __enter__(self):\n",
      "        # Initialize the data if it's not already there\n",
      "        if not self.get_data():\n",
      "            self.set_data({})\n",
      "        return self\n",
      "\n",
      "    def __exit__(self, exc_type, exc_value, traceback):\n",
      "        # Restore the data when exiting the context\n",
      "        self.set_data(self.get_data())\n",
      "\n",
      "# Use the DataManager class to share data\n",
      "with DataManager() as dm:\n",
      "    print(dm.get_data())  # Output: {'key1': 'value1', 'key2': 'value2'}\n",
      "```\n",
      "4. **Memento pattern**: You can use the memento pattern to share data between functions. The idea behind the memento pattern is to create a separate object that contains the data you want to share, and then pass that object around to different parts of your code. Here's an example:\n",
      "```python\n",
      "class DataManager:\n",
      "    def __init__(self):\n",
      "        pass\n",
      "\n",
      "    def get_data(self):\n",
      "        return self._data\n",
      "\n",
      "    def set_data(self, data):\n",
      "        self._data = data\n",
      "\n",
      "    def create_memento(self):\n",
      "        # Create a new object that contains the data\n",
      "        memento = DataMemento()\n",
      "        memento.set_data(self.get_data())\n",
      "        return miento\n",
      "\n",
      "    def restore_data(self, memento):\n",
      "        # Restore the data from the memento object\n",
      "        self.set_data(memento.get_data())\n",
      "\n",
      "# Use the DataManager class to share data\n",
      "dm = DataManager()\n",
      "memento = dm.create_memento()\n",
      "print(dm.get_data())  # Output: {'key1': 'value1', 'key2': 'value2'}\n",
      "print(memento.get_data())  # Output: {'key1': 'value1', 'key2': 'value2'}\n",
      "```\n",
      "These are just a few examples of how you can share data between functions in Python. The best approach will depend on your specific use case and the requirements of your project.\n"
     ]
    }
   ],
   "source": [
    "prompt = '''\n",
    "i code in python\n",
    "i need to read a data in a function and use it all over my app in other function\n",
    "how to do that ?\n",
    "'''\n",
    "response = generate(prompt)\n",
    "print(response)"
   ],
   "metadata": {
    "collapsed": false,
    "ExecuteTime": {
     "end_time": "2024-04-04T14:17:45.221135Z",
     "start_time": "2024-04-04T14:17:27.489718Z"
    }
   },
   "id": "c0bb99884b2c57aa",
   "execution_count": 28
  },
  {
   "cell_type": "code",
   "outputs": [
    {
     "name": "stdout",
     "output_type": "stream",
     "text": [
      " Bien sûr, je vais créer pour vous un questionnaire (QCM) de cinq questions relatives à la mobilité horizontale des plaques tectoniques. Les réponses sont proposées dans le format de choix multiples.\n",
      "\n",
      "1. Quel phénomène géologique décrit une déplacement significatif et rapide de grande portions de lithosphère en direction de l'intérieur ou extérieur d'une plaque tectonique ?\n",
      "   a) Subduction\n",
      "   b) Transformation magmatique\n",
      "   c) Convergence des plaques\n",
      "   d) Mobilité horizontale\n",
      "\n",
      "   Correction : c) Convergence des plaques\n",
      "\n",
      "2. Quelles forces sont responsables de la mobilité horizontale des plaques tectoniques ?\n",
      "   a) Forces gravitationnelles\n",
      "   b) Forces de frottement entre les plaques\n",
      "   c) Forces élastiques\n",
      "   d) Forces magnétiques et électriques\n",
      "\n",
      "   Correction : b) Forces de frottement entre les plaques\n",
      "\n",
      "3. Quel type de convergence des plaques entraîne la mobilité horizontale des plaques ?\n",
      "   a) Convergence divergente\n",
      "   b) Convergence convergente\n",
      "   c) Convergence transformante\n",
      "   d) Convergence dériffeuse\n",
      "\n",
      "   Correction : c) Convergence transformante\n",
      "\n",
      "4. Quelle plate tectonique est responsable de la mobilité horizontale observée dans le Pacifique Nord-Ouest ?\n",
      "   a) Plaque nord-américaine\n",
      "   b) Plaque eurasiatique\n",
      "   c) Plaque pacifique\n",
      "   d) Plaque antarctique\n",
      "\n",
      "   Correction : c) Plaque pacifique\n",
      "\n",
      "5. Quel est le processus géologique qui peut aboutir à l'apparition de failles normales dans une plaque en raison de la mobilité horizontale ?\n",
      "   a) Extension\n",
      "   b) Compression\n",
      "   c) Shear\n",
      "   d) Subduction\n",
      "\n",
      "   Correction : a) Extension\n"
     ]
    }
   ],
   "source": [
    "prompt = '''\n",
    "Je suis prof de SVT. Je travaille au lycée. J'ai des 1eres et des terminales.\n",
    "Peux-tu me faire un QCM de 5 questions sur la mobilité horizontale des plaques tectoniques ?\n",
    "\n",
    "\n",
    "'''\n",
    "response = generate(prompt, model_name='mistral')\n",
    "print(response)"
   ],
   "metadata": {
    "collapsed": false,
    "ExecuteTime": {
     "end_time": "2024-04-05T20:51:03.434300Z",
     "start_time": "2024-04-05T20:50:11.786963Z"
    }
   },
   "id": "51b5486e86deb8c7",
   "execution_count": 14
  },
  {
   "cell_type": "code",
   "outputs": [],
   "source": [],
   "metadata": {
    "collapsed": false,
    "ExecuteTime": {
     "end_time": "2024-04-05T20:32:55.354627Z",
     "start_time": "2024-04-05T20:32:55.351704Z"
    }
   },
   "id": "caf9a2721734a301",
   "execution_count": 9
  },
  {
   "cell_type": "code",
   "outputs": [
    {
     "name": "stdout",
     "output_type": "stream",
     "text": [
      " Je désolé, je n'ai pas pu comprendre le mot \"esse\" dans votre question car il manque des contextes ou d'information supplémentaires. Cependant, en réponse à votre demande de définition simple et claire en français pour un mot donné, je vous explique ce que signifie la conjonction \"esse\" :\n",
      "\n",
      "La conjonction \"esse\" est utilisée dans des phrases conditionnelles complexes en langue française. Elle indique une hypothèse supposée vraie ou une situation imaginaire. Par exemple, dans la phrase \"Si je gagnais le loterie, essentiellement je quitterais mon emploi\", \"essentiellement\" est suivi de \"essentially\" et traduit par \"en fait, réellement, essentiellement\". Dans cette phrase, \"esse\" est impliqué dans la conjonction \"si...essentiellement\", et signifie quelque chose comme \"supposée, considérée comme, sous les supposes que\" en anglais.\n",
      "\n",
      "Notez que le mot \"esse\" ne peut pas être utilisé seul en français, il est toujours accompagné de autres mots pour former une conjonction ou une phrase. Je suis désolé si cela ne répond pas à votre question, et je suis heureux de vous aider si vous avez d'autres questions.\n"
     ]
    }
   ],
   "source": [
    "prompt = '''\n",
    "que veut dire le mot \"esse\" ?\n",
    "Je veux une définition simple et claire.\n",
    "Je veux une réponse en français.\n",
    "Si tu ne sais pas : dis-le.\n",
    "'''\n",
    "response = generate(prompt, model_name='mistral')\n",
    "print(response)"
   ],
   "metadata": {
    "collapsed": false,
    "ExecuteTime": {
     "end_time": "2024-04-10T21:14:55.991357Z",
     "start_time": "2024-04-10T21:14:20.876241Z"
    }
   },
   "id": "fc0a9c605f3e455e",
   "execution_count": 11
  },
  {
   "cell_type": "code",
   "outputs": [
    {
     "name": "stdout",
     "output_type": "stream",
     "text": [
      " Liste d'ingrédients:\n",
      "- 35 g de levure fraîche\n",
      "- 30 cl de lait tiède\n",
      "- 750 g de farine\n",
      "- 1 cc de sel\n",
      "- 1 cs de cardamome moulue\n",
      "- 100 g de sucre\n",
      "- 1 œuf\n",
      "- 120 g de beurre fondu\n",
      "\n",
      "Ingrédients garniture:\n",
      "- 120 g de beurre fondu\n",
      "- 50 g de sucre ( ou plus :D )\n",
      "- 2 cs de cannelle\n",
      "\n",
      "Ingrédients décoration:\n",
      "- 1 œuf battu\n",
      "- 2 cs d'eau\n",
      "- du sucre perlé\n",
      "\n",
      "Étapes de la recette:\n",
      "1. Préchauffer votre four à 50° pendant dix minutes.\n",
      "2. Dans le bol de votre robot, émietter la levure fraîche dans le lait tiède. Laisser reposer dix minutes.\n",
      "3. Éteindre alors le four et le laisser fermé.\n",
      "4. Ajouter au mélange lait - levure la farine, le sel, la cardamome, le sucre et l’œuf. Pétrir lentement deux minutes (vitesse 2 sur le KA).\n",
      "5. Terminer par le beurre fondu et pétrir avec votre crochet pendant 10 à 15 minutes.\n",
      "6. Placer la pâte dans un saladier et le recouvrir d'un torchon. Laisser la pâte lever 30 minutes dans votre four juste tiède et éteint.\n",
      "7. Étaler la pâte sur 3 mm d'épaisseur et former un rectangle de 30 cm de large environ.\n",
      "8. Allumer votre four de nouveau pendant 5 minutes à 50° puis l'éteindre et le laisser fermé.\n",
      "9. A l'aide d'un pinceau, étaler le beurre sur le rectangle de pâte. Saupoudrer généreusement de sucre et de cannelle.\n",
      "10. Rouler la pâte, vous obtiendrez un long rouleau. Couper ce rouleau en une vingtaine de tranches de 2 cm d'épaisseur environ.\n",
      "11. Placer les tranches au fur et à mesure sur une plaque recouverte de papier sulfurisé ou d'un tapis de cuisson. Recouvrir du même torchon et placer les spirales de pâte dans le four éteint et juste tiède pendant une heure.\n",
      "12. Fouetter dans un petit bol l’œuf battu et l'eau. Badigeonner les brioches de ce mélange. Parsemer de sucre perlé à votre guise.\n",
      "13. Enfourner à 220° pendant 8 à 10 minutes, à surveiller selon les fours.\n",
      "14. Laisser ensuite juste tiédir sur une grille et servir aussitôt !\n"
     ]
    }
   ],
   "source": [
    "prompt = '''\n",
    "- 35 g de levure fraîche - 30 cl de lait tiède - 750 g de farine - 1 cc de sel - 1 cs de cardamome moulue - 100 g de sucre - 1 œuf - 120 g de beurre fondu Ingrédients garniture - 120 g de beurre fondu - 50 g de sucre ( ou plus :D ) - 2 cs de cannelle Ingrédients décoration - 1 œuf battu - 2 cs d'eau - du sucre perlé Méthode Préchauffer votre four à 50° pendant dix minutes. Dans le bol de votre robot, émietter la levure fraîche dans le lait tiède. Laisser reposer dix minutes. Éteindre alors le four et le laisser fermé. Ajouter au mélange lait - levure la farine, le sel, la cardamome, le sucre et l’œuf. Pétrir lentement deux minutes (vitesse 2 sur le KA). Terminer par le beurre fondu et pétrir avec votre crochet pendant 10 à 15 minutes. Placer la pâte dans un saladier et le recouvrir d'un torchon. Laisser la pâte lever 30 minutes dans votre four juste tiède et éteint. Au bout de cette demie-heure, étaler la pâte (sur votre plan de travail fariné) sur 3 mm d'épaisseur et former un rectangle de 30 cm de large environ. Allumer votre four de nouveau pendant 5 minutes à 50° puis l'éteindre et le laisser fermé. A l'aide d'un pinceau, étaler le beurre sur le rectangle de pâte. Saupoudrer généreusement de sucre et de cannelle. Rouler la pâte, vous obtiendrez un long rouleau. Couper ce rouleau en une vingtaine de tranches de 2 cm d'épaisseur environ. Placer les tranches au fur et à mesure sur une plaque recouverte de papier sulfurisé ou d'un tapis de cuisson. Recouvrir du même torchon et placer les spirales de pâte dans le four éteint et juste tiède pendant une heure. Les brioches vont doubler de volume. Retirer la plaque du four au bout de cette heure. Allumer le four une dernière fois (ouf !) à 220°. Fouetter dans un petit bol l’œuf battu et l'eau. Badigeonner les brioches de ce mélange. Parsemer de sucre perlé à votre guise Enfourner à 220° pendant 8 à 10 minutes, à surveiller selon les fours. Laisser ensuite juste tiédir sur une grille et servir aussitôt ! Juste tièdes, c'est ainsi que je les préfère !\n",
    "'''\n",
    "surprompt = '''\n",
    "Ce qui précédait est une recette de cuisine.\n",
    "Peux-tu établir une liste d'ingrédients pour cette recette ?\n",
    "Peux-tu me donner les étapes de la recette ?\n",
    "Peux-tu répondre en français ?\n",
    "Si tu ne sais pas : dis-le.\n",
    "Ne rajoutes aucune information.\n",
    "Ne rajoutes aucun commentaire.\n",
    "'''\n",
    "prompt = prompt + surprompt\n",
    "response = generate(prompt, model_name='mistral')\n",
    "print(response)"
   ],
   "metadata": {
    "collapsed": false,
    "ExecuteTime": {
     "end_time": "2024-04-10T21:27:30.113382Z",
     "start_time": "2024-04-10T21:26:09.155493Z"
    }
   },
   "id": "59c6a83222a17c",
   "execution_count": 13
  },
  {
   "cell_type": "code",
   "outputs": [
    {
     "name": "stdout",
     "output_type": "stream",
     "text": [
      " Oui, je peux vous donner une recette de tarte à la carotte avec du Gouda. Voici la liste des ingrédients et les étapes :\n",
      "\n",
      "Ingrédients :\n",
      "- 1 pâte brisée préparée\n",
      "- 800g de carottes\n",
      "- 250g de fromage Gouda, râpé\n",
      "- 40g de beurre\n",
      "- 3 oignons\n",
      "- 40cl de crème liquide\n",
      "- Sel et poivre\n",
      "- Huile pour la cuisson\n",
      "\n",
      "Étapes :\n",
      "1. Préchauffez le four à 200°C.\n",
      "2. Faites cuire les carottes dans une marmite d'eau salée jusqu'à ce qu'elles soient tendres. Égarez-les et coupez-les en rondelles.\n",
      "3. Faites chauffer l'huile d'olive à chaud dans une sauteuse, ajoutez les oignons hachés et faites les revenir jusqu'à ce qu'ils soient transclé.\n",
      "4. Ajoutez les rondelles de carottes et laisser cuire pendant 5 minutes.\n",
      "5. Ajoutez la crème liquide, salez et poivrez et laissez réduire jusqu'à ce que le mélange épaisse.\n",
      "6. Couvrez la pâte brisée d'une couche fine de beurre fondu.\n",
      "7. Disposez les rondelles de carottes sur la pâte, recouvrir de fromage Gouda et versez le mélange carotte-oignon sur la tarte.\n",
      "8. Enfournez la tarte dans le four pendant 30 minutes ou jusqu'à ce que la pâte soit dorée.\n",
      "9. Laissez refroidir avant de servir.\n"
     ]
    }
   ],
   "source": [
    "prompt = '''\n",
    "Peux-tu me donner une recette de tarte à la carotte avec du gouda ?\n",
    "'''\n",
    "surprompt = '''\n",
    "Ce que je souhaite est une recette de cuisine.\n",
    "Peux-tu établir une liste d'ingrédients pour cette recette ?\n",
    "Peux-tu me donner les étapes de la recette ?\n",
    "Peux-tu répondre en français ?\n",
    "Si tu ne sais pas : dis-le.\n",
    "Je ne veux que la liste des ingrédients et les étapes de la recette.\n",
    "Je ne veux pas de commentaires de ta part.\n",
    "Je ne veux pas d'invitation à te poser des questions.\n",
    "Je ne veux pas que tu me demandes si je veux autre chose.\n",
    "Je ne veux pas que tu me demandes si je suis satisfait.\n",
    "Je ne veux pas que tu me demandes si tu peux m'aider.\n",
    "Je ne veux pas que tu me demandes si tu peux faire autre chose.\n",
    "Je ne veux pas que tu me dises que tu peux le faire.\n",
    "'''\n",
    "prompt = prompt + surprompt\n",
    "response = generate(prompt, model_name='mistral')\n",
    "print(response)"
   ],
   "metadata": {
    "collapsed": false,
    "ExecuteTime": {
     "end_time": "2024-04-11T06:44:16.734790Z",
     "start_time": "2024-04-11T06:43:10.661866Z"
    }
   },
   "id": "48e92fdc270e529e",
   "execution_count": 16
  }
 ],
 "metadata": {
  "kernelspec": {
   "display_name": "Python 3",
   "language": "python",
   "name": "python3"
  },
  "language_info": {
   "codemirror_mode": {
    "name": "ipython",
    "version": 2
   },
   "file_extension": ".py",
   "mimetype": "text/x-python",
   "name": "python",
   "nbconvert_exporter": "python",
   "pygments_lexer": "ipython2",
   "version": "2.7.6"
  }
 },
 "nbformat": 4,
 "nbformat_minor": 5
}
