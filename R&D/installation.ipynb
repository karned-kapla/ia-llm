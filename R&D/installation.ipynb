{
 "cells": [
  {
   "metadata": {},
   "cell_type": "markdown",
   "source": [
    "# installation de fabric\n",
    "\n",
    "source : https://github.com/danielmiessler/fabric?tab=readme-ov-file "
   ],
   "id": "28700d20aac1ea74"
  },
  {
   "metadata": {},
   "cell_type": "markdown",
   "source": [
    "```sh\n",
    "# Install Fabric directly from the repo\n",
    "go install github.com/danielmiessler/fabric@latest\n",
    "\n",
    "# Run the setup to set up your directories and keys\n",
    "fabric --setup\n",
    "```\n"
   ],
   "id": "651a1658783a12ce"
  },
  {
   "metadata": {},
   "cell_type": "code",
   "outputs": [],
   "execution_count": null,
   "source": "",
   "id": "4ad8927e3ede42f5"
  }
 ],
 "metadata": {
  "kernelspec": {
   "display_name": "Python 3",
   "language": "python",
   "name": "python3"
  },
  "language_info": {
   "codemirror_mode": {
    "name": "ipython",
    "version": 2
   },
   "file_extension": ".py",
   "mimetype": "text/x-python",
   "name": "python",
   "nbconvert_exporter": "python",
   "pygments_lexer": "ipython2",
   "version": "2.7.6"
  }
 },
 "nbformat": 4,
 "nbformat_minor": 5
}
